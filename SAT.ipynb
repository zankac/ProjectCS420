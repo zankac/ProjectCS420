{
  "nbformat": 4,
  "nbformat_minor": 0,
  "metadata": {
    "colab": {
      "provenance": [],
      "collapsed_sections": [
        "P_ziOfHR4uxQ",
        "IKULxbzU5HZa",
        "tJm9UG335eyx",
        "n-jsm2uUk7gf"
      ],
      "authorship_tag": "ABX9TyPkToTUJYFGlJqDE/59D/4W",
      "include_colab_link": true
    },
    "kernelspec": {
      "name": "python3",
      "display_name": "Python 3"
    },
    "language_info": {
      "name": "python"
    }
  },
  "cells": [
    {
      "cell_type": "markdown",
      "metadata": {
        "id": "view-in-github",
        "colab_type": "text"
      },
      "source": [
        "<a href=\"https://colab.research.google.com/github/alex-smith-uwec/CS-420/blob/main/SAT.ipynb\" target=\"_parent\"><img src=\"https://colab.research.google.com/assets/colab-badge.svg\" alt=\"Open In Colab\"/></a>"
      ]
    },
    {
      "cell_type": "code",
      "execution_count": 2,
      "metadata": {
        "colab": {
          "base_uri": "https://localhost:8080/"
        },
        "id": "qMbBNQjgMLxW",
        "outputId": "63cf2889-1c58-4e2d-e802-0aa74e56dbe7"
      },
      "outputs": [
        {
          "output_type": "stream",
          "name": "stdout",
          "text": [
            "Collecting python-sat\n",
            "  Downloading python_sat-0.1.8.dev9-cp310-cp310-manylinux_2_12_x86_64.manylinux2010_x86_64.whl (2.2 MB)\n",
            "\u001b[2K     \u001b[90m━━━━━━━━━━━━━━━━━━━━━━━━━━━━━━━━━━━━━━━━\u001b[0m \u001b[32m2.2/2.2 MB\u001b[0m \u001b[31m12.9 MB/s\u001b[0m eta \u001b[36m0:00:00\u001b[0m\n",
            "\u001b[?25hRequirement already satisfied: six in /usr/local/lib/python3.10/dist-packages (from python-sat) (1.16.0)\n",
            "Installing collected packages: python-sat\n",
            "Successfully installed python-sat-0.1.8.dev9\n"
          ]
        }
      ],
      "source": [
        "!pip install python-sat"
      ]
    },
    {
      "cell_type": "code",
      "source": [
        "from sympy import symbols, Implies, Not, And, to_cnf\n",
        "from pysat.solvers import Minisat22\n",
        "import random"
      ],
      "metadata": {
        "id": "cWSbN-VGcJAH"
      },
      "execution_count": 3,
      "outputs": []
    },
    {
      "cell_type": "markdown",
      "source": [
        "# Entering formulas with \"natural\" syntax\""
      ],
      "metadata": {
        "id": "P_ziOfHR4uxQ"
      }
    },
    {
      "cell_type": "code",
      "source": [
        " # Define the variables\n",
        "a, b, c = symbols('a b c')\n",
        "\n",
        "# Define the formula (¬a) -> (b ∧ c)\n",
        "formula = Implies(Not(a), And(b, c))\n",
        "##INaAbc in RPN\n",
        "\n",
        "# Convert the formula to CNF using to_cnf function from sympy\n",
        "cnf_formula = to_cnf(formula)\n",
        "\n",
        "cnf_formula\n"
      ],
      "metadata": {
        "colab": {
          "base_uri": "https://localhost:8080/",
          "height": 78
        },
        "id": "lGjJ1TX6M2la",
        "outputId": "ef0930db-b435-4f57-d50e-c90995de6892"
      },
      "execution_count": 4,
      "outputs": [
        {
          "output_type": "execute_result",
          "data": {
            "text/plain": [
              "(a | b) & (a | c)"
            ],
            "text/latex": "$\\displaystyle \\left(a \\vee b\\right) \\wedge \\left(a \\vee c\\right)$"
          },
          "metadata": {},
          "execution_count": 4
        }
      ]
    },
    {
      "cell_type": "code",
      "source": [
        "print(cnf_formula)"
      ],
      "metadata": {
        "colab": {
          "base_uri": "https://localhost:8080/"
        },
        "id": "44Pq8kgd10zj",
        "outputId": "23427db4-122d-4428-d946-0e5c43d9bfa9"
      },
      "execution_count": 5,
      "outputs": [
        {
          "output_type": "stream",
          "name": "stdout",
          "text": [
            "(a | b) & (a | c)\n"
          ]
        }
      ]
    },
    {
      "cell_type": "markdown",
      "source": [
        "# Converting from \"natural language\" representation of cnf to numerical format for solvers"
      ],
      "metadata": {
        "id": "IKULxbzU5HZa"
      }
    },
    {
      "cell_type": "code",
      "source": [
        "# Initialize an empty list to store the clauses\n",
        "cnf_list = []\n",
        "\n",
        "# Create a mapping of variables to integers\n",
        "var_map = {'a': 1, 'b': 2, 'c': 3}\n",
        "\n",
        "# Traverse the CNF formula to populate the list of tuples\n",
        "for clause in cnf_formula.args:\n",
        "    # Initialize an empty list for the current clause\n",
        "    clause_list = []\n",
        "    for literal in clause.args:\n",
        "        if literal.func is Not:\n",
        "            # If the literal is a negation, use negative integers\n",
        "            clause_list.append(-var_map[str(literal.args[0])])\n",
        "        else:\n",
        "            # Otherwise, use positive integers\n",
        "            clause_list.append(var_map[str(literal)])\n",
        "    # Convert the clause list to a tuple and append it to the CNF list\n",
        "    cnf_list.append(clause_list)\n",
        "\n",
        "cnf_list\n"
      ],
      "metadata": {
        "colab": {
          "base_uri": "https://localhost:8080/"
        },
        "id": "S0Qozogs0fhq",
        "outputId": "54747318-b826-4783-cff9-7f70ce8e850d"
      },
      "execution_count": 6,
      "outputs": [
        {
          "output_type": "execute_result",
          "data": {
            "text/plain": [
              "[[1, 2], [1, 3]]"
            ]
          },
          "metadata": {},
          "execution_count": 6
        }
      ]
    },
    {
      "cell_type": "markdown",
      "source": [
        "# Experiment witn Minisat22"
      ],
      "metadata": {
        "id": "tJm9UG335eyx"
      }
    },
    {
      "cell_type": "code",
      "source": [
        "# Create a solver instance\n",
        "solver = Minisat22()\n",
        "\n",
        "# Add clauses using add_clause method\n",
        "# Positive integers represent the variable, and negative integers represent the negation of the variable\n",
        "solver.add_clause([-1, 2])  # This represents the clause (¬A ∨ B)\n",
        "solver.add_clause([1, -2])  # This represents the clause (A ∨ ¬B)\n",
        "solver.add_clause([1, 2])   # This represents the clause (A ∨ B)\n",
        "\n",
        "# Check for satisfiability\n",
        "result = solver.solve()\n",
        "\n",
        "# If the problem is satisfiable, you can get a model (a particular solution)\n",
        "if result:\n",
        "    model = solver.get_model()\n",
        "    print(\"Satisfiable with model:\", model)\n",
        "else:\n",
        "    print(\"Unsatisfiable\")\n"
      ],
      "metadata": {
        "colab": {
          "base_uri": "https://localhost:8080/"
        },
        "id": "PO9HKMQxMxQ2",
        "outputId": "db2fbcf6-fdc4-4438-f92a-8b1c981d9f64"
      },
      "execution_count": 6,
      "outputs": [
        {
          "output_type": "stream",
          "name": "stdout",
          "text": [
            "Satisfiable with model: [1, 2]\n"
          ]
        }
      ]
    },
    {
      "cell_type": "code",
      "source": [
        "# Number of symbols (variables)\n",
        "n = 5\n",
        "# Length of each clause\n",
        "k = 3\n",
        "# Number of clauses\n",
        "m = 10\n",
        "\n",
        "def generate_clause(n, k):\n",
        "    \"\"\"\n",
        "    Generate a random clause of length k from n variables.\n",
        "    \"\"\"\n",
        "    # Choose k different variables\n",
        "    variables = random.sample(range(1, n+1), k)\n",
        "\n",
        "    # Flip the sign of each variable with 50% probability\n",
        "    clause = [var if random.choice([True, False]) else -var for var in variables]\n",
        "\n",
        "    return clause\n",
        "\n",
        "# Generate m clauses\n",
        "clauses = [generate_clause(n, k) for _ in range(m)]\n",
        "# print(clauses)\n",
        "clauses"
      ],
      "metadata": {
        "colab": {
          "base_uri": "https://localhost:8080/"
        },
        "id": "n9YXy9dzkK1Y",
        "outputId": "f098a5e6-8bc2-4050-ef63-05cc98550dd4"
      },
      "execution_count": 7,
      "outputs": [
        {
          "output_type": "execute_result",
          "data": {
            "text/plain": [
              "[[3, -5, 4],\n",
              " [1, 5, 3],\n",
              " [-1, 2, -4],\n",
              " [3, 2, -1],\n",
              " [-1, -2, -5],\n",
              " [3, -5, 1],\n",
              " [2, -4, -5],\n",
              " [-5, -3, 2],\n",
              " [-2, -5, 1],\n",
              " [-2, 5, 1]]"
            ]
          },
          "metadata": {},
          "execution_count": 7
        }
      ]
    },
    {
      "cell_type": "code",
      "source": [
        "solver = Minisat22()\n",
        "\n",
        "# Your clauses\n",
        "# clauses = [[5, 10, 3], [10, 4, 6], [-9, -7, 4], [-4, -7, -1]]\n",
        "# clauses=cnf_list\n",
        "\n",
        "# Add clauses to the solver\n",
        "for clause in clauses:\n",
        "    solver.add_clause(clause)\n",
        "\n",
        "# Check for satisfiability\n",
        "result = solver.solve()\n",
        "\n",
        "if result:\n",
        "    model = solver.get_model()\n",
        "    print(\"Satisfiable with model:\", model)\n",
        "else:\n",
        "    print(\"Unsatisfiable\")"
      ],
      "metadata": {
        "id": "pSurS5CkcwhB",
        "colab": {
          "base_uri": "https://localhost:8080/"
        },
        "outputId": "d99acb98-94b7-44f7-9a92-50e1d284b738"
      },
      "execution_count": 8,
      "outputs": [
        {
          "output_type": "stream",
          "name": "stdout",
          "text": [
            "Satisfiable with model: [1, 2, -3, -4, -5]\n"
          ]
        }
      ]
    },
    {
      "cell_type": "code",
      "source": [],
      "metadata": {
        "id": "SFIrI2mQrCPd"
      },
      "execution_count": null,
      "outputs": []
    },
    {
      "cell_type": "markdown",
      "source": [
        "#N Queens"
      ],
      "metadata": {
        "id": "n-jsm2uUk7gf"
      }
    },
    {
      "cell_type": "code",
      "source": [
        "# Initialize SAT solver\n",
        "solver = Minisat22()\n",
        "\n",
        "N=8  # Size of the board\n",
        "\n",
        "# Function to convert 2D board coordinates to 1D variable names\n",
        "def var(i, j):\n",
        "    return i * N + j + 1  # +1 because SAT variables start from 1\n",
        "\n",
        "# Generate row constraints using list comprehension\n",
        "row_clauses = [[-var(i, j), -var(i, k)] for i in range(N) for j in range(N) for k in range(N) if j != k]\n",
        "##list comprehension above is equivalent to this loop\n",
        "# Generate constraints for each row\n",
        "# for i in range(N):\n",
        "#     for j in range(N):\n",
        "#         for k in range(N):\n",
        "#             if j != k:\n",
        "#                 solver.add_clause([-var(i, j), -var(i, k)])\n",
        "\n",
        "# Generate column constraints using list comprehension\n",
        "col_clauses = [[-var(i, j), -var(k, j)] for j in range(N) for i in range(N) for k in range(N) if i != k]\n",
        "\n",
        "# Generate diagonal constraints using list comprehension\n",
        "diag_clauses = [[-var(i, j), -var(k, l)] for i in range(N) for j in range(N)\n",
        "                for k in range(N) for l in range(N)\n",
        "                if i != k and j != l and abs(i - k) == abs(j - l)]\n",
        "\n",
        "# Generate at least one queen per column clauses\n",
        "one_queen_per_col_clauses = [[var(i, j) for i in range(N)] for j in range(N)]\n",
        "\n",
        "# Combine all sets of clauses\n",
        "all_clauses = row_clauses + col_clauses + diag_clauses + one_queen_per_col_clauses\n",
        "\n",
        "# Add clauses to the solver\n",
        "for clause in all_clauses:\n",
        "    solver.add_clause(clause)\n",
        "\n",
        "# Solve and print the solution\n",
        "if solver.solve():\n",
        "    model = solver.get_model()\n",
        "    print(\"Satisfiable with model:\", model)\n",
        "else:\n",
        "    print(\"Unsatisfiable\")\n"
      ],
      "metadata": {
        "colab": {
          "base_uri": "https://localhost:8080/"
        },
        "id": "7Q8YMR9RlAqg",
        "outputId": "b3439810-d101-4f15-eb68-49e8bfbd6291"
      },
      "execution_count": 9,
      "outputs": [
        {
          "output_type": "stream",
          "name": "stdout",
          "text": [
            "Satisfiable with model: [-1, -2, -3, -4, -5, 6, -7, -8, -9, -10, -11, 12, -13, -14, -15, -16, -17, -18, -19, -20, -21, -22, 23, -24, 25, -26, -27, -28, -29, -30, -31, -32, -33, -34, 35, -36, -37, -38, -39, -40, -41, -42, -43, -44, 45, -46, -47, -48, -49, 50, -51, -52, -53, -54, -55, -56, -57, -58, -59, -60, -61, -62, -63, 64]\n"
          ]
        }
      ]
    },
    {
      "cell_type": "code",
      "source": [
        "clean=[k for k in model if k>0]"
      ],
      "metadata": {
        "id": "IvPHLprYTl9N"
      },
      "execution_count": 10,
      "outputs": []
    },
    {
      "cell_type": "code",
      "source": [
        "clean"
      ],
      "metadata": {
        "colab": {
          "base_uri": "https://localhost:8080/"
        },
        "id": "m1VX101KTy3e",
        "outputId": "32af82cc-e246-4699-9ad4-eb511832b6aa"
      },
      "execution_count": 14,
      "outputs": [
        {
          "output_type": "execute_result",
          "data": {
            "text/plain": [
              "[6, 12, 23, 25, 35, 45, 50, 64]"
            ]
          },
          "metadata": {},
          "execution_count": 14
        }
      ]
    },
    {
      "cell_type": "code",
      "source": [
        "len(all_clauses)"
      ],
      "metadata": {
        "colab": {
          "base_uri": "https://localhost:8080/"
        },
        "id": "D9zBYNbiTztn",
        "outputId": "1ccdcb44-a3f1-4537-d741-acd0080f1830"
      },
      "execution_count": 18,
      "outputs": [
        {
          "output_type": "execute_result",
          "data": {
            "text/plain": [
              "1464"
            ]
          },
          "metadata": {},
          "execution_count": 18
        }
      ]
    },
    {
      "cell_type": "code",
      "source": [
        "unique_clauses = set(tuple(clause) for clause in all_clauses)\n",
        "len(unique_clauses)\n"
      ],
      "metadata": {
        "colab": {
          "base_uri": "https://localhost:8080/"
        },
        "id": "5P2TqTAVXO9h",
        "outputId": "ab1345e9-21cb-48a7-8b92-2b860a2b1364"
      },
      "execution_count": 27,
      "outputs": [
        {
          "output_type": "execute_result",
          "data": {
            "text/plain": [
              "1464"
            ]
          },
          "metadata": {},
          "execution_count": 27
        }
      ]
    },
    {
      "cell_type": "code",
      "source": [],
      "metadata": {
        "id": "DJDlq7RkgW9i"
      },
      "execution_count": null,
      "outputs": []
    }
  ]
}